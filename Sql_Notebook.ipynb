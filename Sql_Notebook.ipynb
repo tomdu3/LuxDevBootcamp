{
 "cells": [
  {
   "cell_type": "code",
   "execution_count": 1,
   "metadata": {},
   "outputs": [
    {
     "name": "stdout",
     "output_type": "stream",
     "text": [
      "Requirement already satisfied: kaggle in ./venv/lib/python3.12/site-packages (1.6.17)\n",
      "Requirement already satisfied: six>=1.10 in ./venv/lib/python3.12/site-packages (from kaggle) (1.16.0)\n",
      "Requirement already satisfied: certifi>=2023.7.22 in ./venv/lib/python3.12/site-packages (from kaggle) (2024.7.4)\n",
      "Requirement already satisfied: python-dateutil in ./venv/lib/python3.12/site-packages (from kaggle) (2.9.0.post0)\n",
      "Requirement already satisfied: requests in ./venv/lib/python3.12/site-packages (from kaggle) (2.32.3)\n",
      "Requirement already satisfied: tqdm in ./venv/lib/python3.12/site-packages (from kaggle) (4.66.5)\n",
      "Requirement already satisfied: python-slugify in ./venv/lib/python3.12/site-packages (from kaggle) (8.0.4)\n",
      "Requirement already satisfied: urllib3 in ./venv/lib/python3.12/site-packages (from kaggle) (2.2.2)\n",
      "Requirement already satisfied: bleach in ./venv/lib/python3.12/site-packages (from kaggle) (6.1.0)\n",
      "Requirement already satisfied: webencodings in ./venv/lib/python3.12/site-packages (from bleach->kaggle) (0.5.1)\n",
      "Requirement already satisfied: text-unidecode>=1.3 in ./venv/lib/python3.12/site-packages (from python-slugify->kaggle) (1.3)\n",
      "Requirement already satisfied: charset-normalizer<4,>=2 in ./venv/lib/python3.12/site-packages (from requests->kaggle) (3.3.2)\n",
      "Requirement already satisfied: idna<4,>=2.5 in ./venv/lib/python3.12/site-packages (from requests->kaggle) (3.7)\n",
      "\n",
      "\u001b[1m[\u001b[0m\u001b[34;49mnotice\u001b[0m\u001b[1;39;49m]\u001b[0m\u001b[39;49m A new release of pip is available: \u001b[0m\u001b[31;49m24.0\u001b[0m\u001b[39;49m -> \u001b[0m\u001b[32;49m24.2\u001b[0m\n",
      "\u001b[1m[\u001b[0m\u001b[34;49mnotice\u001b[0m\u001b[1;39;49m]\u001b[0m\u001b[39;49m To update, run: \u001b[0m\u001b[32;49mpip install --upgrade pip\u001b[0m\n",
      "mkdir: cannot create directory ‘/home/tom/.kaggle’: File exists\n",
      "Dataset URL: https://www.kaggle.com/datasets/ayushmi77al/weather-data-set-for-beginners\n",
      "License(s): unknown\n",
      "Downloading weather-data-set-for-beginners.zip to /home/tom/LuxDevBootcamp\n",
      "100%|█████████████████████████████████████████| 101k/101k [00:00<00:00, 360kB/s]\n",
      "100%|█████████████████████████████████████████| 101k/101k [00:00<00:00, 359kB/s]\n"
     ]
    }
   ],
   "source": [
    "! pip install -m  requirements.txt\n",
    "! mkdir ~/.kaggle\n",
    "\n",
    "! cp kaggle.json ~/.kaggle/\n",
    "\n",
    "! chmod 600 ~/.kaggle/kaggle.json\n",
    "\n",
    "! kaggle datasets download ayushmi77al/weather-data-set-for-beginners"
   ]
  },
  {
   "cell_type": "code",
   "execution_count": 2,
   "metadata": {},
   "outputs": [
    {
     "name": "stdout",
     "output_type": "stream",
     "text": [
      "Archive:  ./weather-data-set-for-beginners.zip\n",
      "  inflating: 1. Weather Data.csv     \n"
     ]
    }
   ],
   "source": [
    "!unzip -o ./weather-data-set-for-beginners.zip "
   ]
  },
  {
   "cell_type": "code",
   "execution_count": 3,
   "metadata": {},
   "outputs": [],
   "source": [
    "!rm ./weather-data-set-for-beginners.zip"
   ]
  },
  {
   "cell_type": "code",
   "execution_count": 4,
   "metadata": {},
   "outputs": [
    {
     "data": {
      "text/html": [
       "<div>\n",
       "<style scoped>\n",
       "    .dataframe tbody tr th:only-of-type {\n",
       "        vertical-align: middle;\n",
       "    }\n",
       "\n",
       "    .dataframe tbody tr th {\n",
       "        vertical-align: top;\n",
       "    }\n",
       "\n",
       "    .dataframe thead th {\n",
       "        text-align: right;\n",
       "    }\n",
       "</style>\n",
       "<table border=\"1\" class=\"dataframe\">\n",
       "  <thead>\n",
       "    <tr style=\"text-align: right;\">\n",
       "      <th></th>\n",
       "      <th>Date/Time</th>\n",
       "      <th>Temp_C</th>\n",
       "      <th>Dew Point Temp_C</th>\n",
       "      <th>Rel Hum_%</th>\n",
       "      <th>Wind Speed_km/h</th>\n",
       "      <th>Visibility_km</th>\n",
       "      <th>Press_kPa</th>\n",
       "      <th>Weather</th>\n",
       "    </tr>\n",
       "  </thead>\n",
       "  <tbody>\n",
       "    <tr>\n",
       "      <th>0</th>\n",
       "      <td>1/1/2012 0:00</td>\n",
       "      <td>-1.8</td>\n",
       "      <td>-3.9</td>\n",
       "      <td>86</td>\n",
       "      <td>4</td>\n",
       "      <td>8.0</td>\n",
       "      <td>101.24</td>\n",
       "      <td>Fog</td>\n",
       "    </tr>\n",
       "    <tr>\n",
       "      <th>1</th>\n",
       "      <td>1/1/2012 1:00</td>\n",
       "      <td>-1.8</td>\n",
       "      <td>-3.7</td>\n",
       "      <td>87</td>\n",
       "      <td>4</td>\n",
       "      <td>8.0</td>\n",
       "      <td>101.24</td>\n",
       "      <td>Fog</td>\n",
       "    </tr>\n",
       "    <tr>\n",
       "      <th>2</th>\n",
       "      <td>1/1/2012 2:00</td>\n",
       "      <td>-1.8</td>\n",
       "      <td>-3.4</td>\n",
       "      <td>89</td>\n",
       "      <td>7</td>\n",
       "      <td>4.0</td>\n",
       "      <td>101.26</td>\n",
       "      <td>Freezing Drizzle,Fog</td>\n",
       "    </tr>\n",
       "    <tr>\n",
       "      <th>3</th>\n",
       "      <td>1/1/2012 3:00</td>\n",
       "      <td>-1.5</td>\n",
       "      <td>-3.2</td>\n",
       "      <td>88</td>\n",
       "      <td>6</td>\n",
       "      <td>4.0</td>\n",
       "      <td>101.27</td>\n",
       "      <td>Freezing Drizzle,Fog</td>\n",
       "    </tr>\n",
       "    <tr>\n",
       "      <th>4</th>\n",
       "      <td>1/1/2012 4:00</td>\n",
       "      <td>-1.5</td>\n",
       "      <td>-3.3</td>\n",
       "      <td>88</td>\n",
       "      <td>7</td>\n",
       "      <td>4.8</td>\n",
       "      <td>101.23</td>\n",
       "      <td>Fog</td>\n",
       "    </tr>\n",
       "  </tbody>\n",
       "</table>\n",
       "</div>"
      ],
      "text/plain": [
       "       Date/Time  Temp_C  Dew Point Temp_C  Rel Hum_%  Wind Speed_km/h  \\\n",
       "0  1/1/2012 0:00    -1.8              -3.9         86                4   \n",
       "1  1/1/2012 1:00    -1.8              -3.7         87                4   \n",
       "2  1/1/2012 2:00    -1.8              -3.4         89                7   \n",
       "3  1/1/2012 3:00    -1.5              -3.2         88                6   \n",
       "4  1/1/2012 4:00    -1.5              -3.3         88                7   \n",
       "\n",
       "   Visibility_km  Press_kPa               Weather  \n",
       "0            8.0     101.24                   Fog  \n",
       "1            8.0     101.24                   Fog  \n",
       "2            4.0     101.26  Freezing Drizzle,Fog  \n",
       "3            4.0     101.27  Freezing Drizzle,Fog  \n",
       "4            4.8     101.23                   Fog  "
      ]
     },
     "execution_count": 4,
     "metadata": {},
     "output_type": "execute_result"
    }
   ],
   "source": [
    "# load data file\n",
    "import pandas as pd\n",
    "import numpy as np\n",
    "\n",
    "data = pd.read_csv(\"1. Weather Data.csv\")\n",
    "\n",
    "data.head()"
   ]
  },
  {
   "cell_type": "code",
   "execution_count": 5,
   "metadata": {},
   "outputs": [],
   "source": [
    "import sqlite3"
   ]
  },
  {
   "cell_type": "code",
   "execution_count": 6,
   "metadata": {},
   "outputs": [
    {
     "data": {
      "text/html": [
       "<div>\n",
       "<style scoped>\n",
       "    .dataframe tbody tr th:only-of-type {\n",
       "        vertical-align: middle;\n",
       "    }\n",
       "\n",
       "    .dataframe tbody tr th {\n",
       "        vertical-align: top;\n",
       "    }\n",
       "\n",
       "    .dataframe thead th {\n",
       "        text-align: right;\n",
       "    }\n",
       "</style>\n",
       "<table border=\"1\" class=\"dataframe\">\n",
       "  <thead>\n",
       "    <tr style=\"text-align: right;\">\n",
       "      <th></th>\n",
       "      <th>date/time</th>\n",
       "      <th>temp_c</th>\n",
       "      <th>dew_point_temp_c</th>\n",
       "      <th>rel_hum_%</th>\n",
       "      <th>wind_speed_km/h</th>\n",
       "      <th>visibility_km</th>\n",
       "      <th>press_kpa</th>\n",
       "      <th>weather</th>\n",
       "    </tr>\n",
       "  </thead>\n",
       "  <tbody>\n",
       "    <tr>\n",
       "      <th>0</th>\n",
       "      <td>1/1/2012 0:00</td>\n",
       "      <td>-1.8</td>\n",
       "      <td>-3.9</td>\n",
       "      <td>86</td>\n",
       "      <td>4</td>\n",
       "      <td>8.0</td>\n",
       "      <td>101.24</td>\n",
       "      <td>Fog</td>\n",
       "    </tr>\n",
       "    <tr>\n",
       "      <th>1</th>\n",
       "      <td>1/1/2012 1:00</td>\n",
       "      <td>-1.8</td>\n",
       "      <td>-3.7</td>\n",
       "      <td>87</td>\n",
       "      <td>4</td>\n",
       "      <td>8.0</td>\n",
       "      <td>101.24</td>\n",
       "      <td>Fog</td>\n",
       "    </tr>\n",
       "    <tr>\n",
       "      <th>2</th>\n",
       "      <td>1/1/2012 2:00</td>\n",
       "      <td>-1.8</td>\n",
       "      <td>-3.4</td>\n",
       "      <td>89</td>\n",
       "      <td>7</td>\n",
       "      <td>4.0</td>\n",
       "      <td>101.26</td>\n",
       "      <td>Freezing Drizzle,Fog</td>\n",
       "    </tr>\n",
       "    <tr>\n",
       "      <th>3</th>\n",
       "      <td>1/1/2012 3:00</td>\n",
       "      <td>-1.5</td>\n",
       "      <td>-3.2</td>\n",
       "      <td>88</td>\n",
       "      <td>6</td>\n",
       "      <td>4.0</td>\n",
       "      <td>101.27</td>\n",
       "      <td>Freezing Drizzle,Fog</td>\n",
       "    </tr>\n",
       "    <tr>\n",
       "      <th>4</th>\n",
       "      <td>1/1/2012 4:00</td>\n",
       "      <td>-1.5</td>\n",
       "      <td>-3.3</td>\n",
       "      <td>88</td>\n",
       "      <td>7</td>\n",
       "      <td>4.8</td>\n",
       "      <td>101.23</td>\n",
       "      <td>Fog</td>\n",
       "    </tr>\n",
       "  </tbody>\n",
       "</table>\n",
       "</div>"
      ],
      "text/plain": [
       "       date/time  temp_c  dew_point_temp_c  rel_hum_%  wind_speed_km/h  \\\n",
       "0  1/1/2012 0:00    -1.8              -3.9         86                4   \n",
       "1  1/1/2012 1:00    -1.8              -3.7         87                4   \n",
       "2  1/1/2012 2:00    -1.8              -3.4         89                7   \n",
       "3  1/1/2012 3:00    -1.5              -3.2         88                6   \n",
       "4  1/1/2012 4:00    -1.5              -3.3         88                7   \n",
       "\n",
       "   visibility_km  press_kpa               weather  \n",
       "0            8.0     101.24                   Fog  \n",
       "1            8.0     101.24                   Fog  \n",
       "2            4.0     101.26  Freezing Drizzle,Fog  \n",
       "3            4.0     101.27  Freezing Drizzle,Fog  \n",
       "4            4.8     101.23                   Fog  "
      ]
     },
     "execution_count": 6,
     "metadata": {},
     "output_type": "execute_result"
    }
   ],
   "source": [
    "# Data cleanup\n",
    "data.columns = data.columns.str.strip().str.lower().str.replace(' ', '_').str.replace('(', '').str.replace(')', '')\n",
    "\n",
    "data.head()"
   ]
  },
  {
   "cell_type": "code",
   "execution_count": 7,
   "metadata": {},
   "outputs": [],
   "source": [
    "# Convert CSV to SQLite table\n",
    "# connect to database\n",
    "conn = sqlite3.connect('weather.db')\n",
    "\n",
    "# write data to SQLite database\n",
    "data.to_sql('weather', conn, if_exists='replace', index=False)\n",
    "\n",
    "# close connection\n",
    "conn.close()"
   ]
  },
  {
   "cell_type": "code",
   "execution_count": 8,
   "metadata": {},
   "outputs": [],
   "source": [
    "from sqlalchemy import create_engine, inspect, text\n",
    "from sqlalchemy.orm import sessionmaker\n",
    "import tabulate\n",
    "\n",
    "engine = create_engine('sqlite:///weather.db')\n",
    "\n",
    "Session = sessionmaker(bind=engine)\n",
    "session = Session()\n"
   ]
  },
  {
   "cell_type": "code",
   "execution_count": 9,
   "metadata": {},
   "outputs": [
    {
     "data": {
      "text/plain": [
       "['date/time',\n",
       " 'temp_c',\n",
       " 'dew_point_temp_c',\n",
       " 'rel_hum_%',\n",
       " 'wind_speed_km/h',\n",
       " 'visibility_km',\n",
       " 'press_kpa',\n",
       " 'weather']"
      ]
     },
     "execution_count": 9,
     "metadata": {},
     "output_type": "execute_result"
    }
   ],
   "source": [
    "# get table name(s)\n",
    "insp = inspect(engine)\n",
    "table = insp.get_table_names()[0]\n",
    "\n",
    "# get table schema\n",
    "inspector = inspect(engine)\n",
    "columns = inspector.get_columns(table)\n",
    "column_names = [column['name'] for column in columns]\n",
    "column_names\n"
   ]
  },
  {
   "cell_type": "code",
   "execution_count": 10,
   "metadata": {},
   "outputs": [],
   "source": [
    "# query data function\n",
    "\n",
    "def query_data(query):\n",
    "    '''\n",
    "    Executes query on database\n",
    "\n",
    "    Parameters\n",
    "    ----------\n",
    "    query : sqlalchemy.text\n",
    "        SQL query to be executed\n",
    "    '''\n",
    "    with engine.connect() as conn:\n",
    "        result = conn.execute(query)\n",
    "\n",
    "    return result\n",
    "\n",
    "def print_table(query, limit=0 ):\n",
    "    '''\n",
    "    Prints query results in tabular format.\n",
    "\n",
    "    Parameters\n",
    "    ----------\n",
    "    query : sqlalchemy.text\n",
    "        query to be executed\n",
    "    limit : int\n",
    "        number of rows to print (default is 0, which prints all rows)\n",
    "    '''\n",
    "    data = list(query)\n",
    "    if len(data) == 0:\n",
    "        print('No data found')\n",
    "        return\n",
    "    \n",
    "    data = data if not limit else data[:limit]\n",
    "    print(tabulate.tabulate(data, headers=column_names, tablefmt='psql'))\n"
   ]
  },
  {
   "cell_type": "code",
   "execution_count": 11,
   "metadata": {},
   "outputs": [
    {
     "name": "stdout",
     "output_type": "stream",
     "text": [
      "+----------------+----------+--------------------+-------------+-------------------+-----------------+-------------+-----------+\n",
      "| date/time      |   temp_c |   dew_point_temp_c |   rel_hum_% |   wind_speed_km/h |   visibility_km |   press_kpa | weather   |\n",
      "|----------------+----------+--------------------+-------------+-------------------+-----------------+-------------+-----------|\n",
      "| 1/3/2012 19:00 |    -16.9 |              -24.8 |          50 |                24 |            25   |      101.74 | Clear     |\n",
      "| 1/5/2012 18:00 |     -7.1 |              -14.4 |          56 |                11 |            25   |      100.71 | Clear     |\n",
      "| 1/5/2012 19:00 |     -9.2 |              -15.4 |          61 |                 7 |            25   |      100.8  | Clear     |\n",
      "| 1/5/2012 20:00 |     -9.8 |              -15.7 |          62 |                 9 |            25   |      100.83 | Clear     |\n",
      "| 1/5/2012 21:00 |     -9   |              -14.8 |          63 |                13 |            25   |      100.83 | Clear     |\n",
      "| 1/11/2012 1:00 |    -10.7 |              -17.8 |          56 |                17 |            25   |      101.49 | Clear     |\n",
      "| 1/11/2012 2:00 |    -12   |              -18.9 |          56 |                19 |            25   |      101.57 | Clear     |\n",
      "| 1/11/2012 3:00 |    -12.7 |              -19.4 |          57 |                19 |            25   |      101.64 | Clear     |\n",
      "| 1/11/2012 4:00 |    -13.4 |              -20.1 |          57 |                17 |            25   |      101.66 | Clear     |\n",
      "| 1/15/2012 8:00 |    -23.3 |              -28.5 |          62 |                 7 |            24.1 |      102.45 | Clear     |\n",
      "+----------------+----------+--------------------+-------------+-------------------+-----------------+-------------+-----------+\n"
     ]
    }
   ],
   "source": [
    "# Find all records where the weather was exactly clear.\n",
    "\n",
    "query = text(\"SELECT * FROM weather WHERE weather = 'Clear'\")\n",
    "print_table(query_data(query), 10)\n"
   ]
  },
  {
   "cell_type": "code",
   "execution_count": 12,
   "metadata": {},
   "outputs": [
    {
     "name": "stdout",
     "output_type": "stream",
     "text": [
      "+----------------+----------+--------------------+-------------+-------------------+-----------------+-------------+---------------+\n",
      "| date/time      |   temp_c |   dew_point_temp_c |   rel_hum_% |   wind_speed_km/h |   visibility_km |   press_kpa | weather       |\n",
      "|----------------+----------+--------------------+-------------+-------------------+-----------------+-------------+---------------|\n",
      "| 1/1/2012 0:00  |     -1.8 |               -3.9 |          86 |                 4 |             8   |      101.24 | Fog           |\n",
      "| 1/1/2012 1:00  |     -1.8 |               -3.7 |          87 |                 4 |             8   |      101.24 | Fog           |\n",
      "| 1/5/2012 0:00  |     -8.8 |              -11.7 |          79 |                 4 |             9.7 |      100.32 | Snow          |\n",
      "| 1/5/2012 5:00  |     -7   |               -9.5 |          82 |                 4 |             4   |      100.19 | Snow          |\n",
      "| 1/7/2012 2:00  |     -8.1 |              -11.1 |          79 |                 4 |            19.3 |      100.15 | Cloudy        |\n",
      "| 1/7/2012 3:00  |     -7.8 |              -10.8 |          79 |                 4 |            19.3 |      100.12 | Cloudy        |\n",
      "| 1/7/2012 5:00  |     -6.9 |               -9.7 |          80 |                 4 |            19.3 |      100.12 | Cloudy        |\n",
      "| 1/7/2012 20:00 |     -1.8 |               -3.7 |          87 |                 4 |             9.7 |      100.48 | Snow          |\n",
      "| 1/7/2012 22:00 |     -1.5 |               -3   |          89 |                 4 |             4   |      100.54 | Fog           |\n",
      "| 1/9/2012 2:00  |     -9   |              -14.1 |          66 |                 4 |            25   |      102.15 | Mostly Cloudy |\n",
      "+----------------+----------+--------------------+-------------+-------------------+-----------------+-------------+---------------+\n"
     ]
    }
   ],
   "source": [
    "# Find the number of times the wind speed was exactly 4 km/hr.\n",
    "\n",
    "query = text('SELECT * FROM weather WHERE \"wind_speed_km/h\" = 4')\n",
    "print_table(query_data(query), 10)\n"
   ]
  },
  {
   "cell_type": "code",
   "execution_count": 13,
   "metadata": {},
   "outputs": [
    {
     "name": "stdout",
     "output_type": "stream",
     "text": [
      "No NULL values in date/time\n",
      "No NULL values in temp_c\n",
      "No NULL values in dew_point_temp_c\n",
      "No NULL values in rel_hum_%\n",
      "No NULL values in wind_speed_km/h\n",
      "No NULL values in visibility_km\n",
      "No NULL values in press_kpa\n",
      "No NULL values in weather\n"
     ]
    }
   ],
   "source": [
    "# Check if there are any NULL values present in the dataset.\n",
    "\n",
    "for column in column_names:\n",
    "    query = text(f'SELECT * FROM weather WHERE \"{column}\" IS NULL')\n",
    "\n",
    "    if len(list(query_data(query))) > 0:\n",
    "        print_table(query_data(query), 10)\n",
    "    else:\n",
    "        print(f'No NULL values in {column}')\n"
   ]
  },
  {
   "cell_type": "code",
   "execution_count": 14,
   "metadata": {},
   "outputs": [
    {
     "name": "stdout",
     "output_type": "stream",
     "text": [
      "['date/time', 'temp_c', 'dew_point_temp_c', 'rel_hum_%', 'wind_speed_km/h', 'visibility_km', 'press_kpa', 'weather']\n",
      "['date/time', 'temp_c', 'dew_point_temp_c', 'rel_hum_%', 'wind_speed_km/h', 'visibility_km', 'press_kpa', 'weather_condition']\n"
     ]
    }
   ],
   "source": [
    "# Rename the column \"Weather\" to \"Weather_Condition.\"\n",
    "\n",
    "exec = text('ALTER TABLE weather RENAME COLUMN weather TO weather_condition')\n",
    "with engine.connect() as conn:\n",
    "        result = conn.execute(exec)\n",
    "\n",
    "\n",
    "# Verify that the column was renamed successfully.\n",
    "\n",
    "query = text('SELECT * FROM weather LIMIT 1')\n",
    "with engine.connect() as conn:\n",
    "    result = conn.execute(query)\n",
    "\n",
    "# update column names\n",
    "print(column_names)\n",
    "column_names = list(result.keys())\n",
    "print(column_names)\n",
    "\n"
   ]
  }
 ],
 "metadata": {
  "kernelspec": {
   "display_name": "venv",
   "language": "python",
   "name": "python3"
  },
  "language_info": {
   "codemirror_mode": {
    "name": "ipython",
    "version": 3
   },
   "file_extension": ".py",
   "mimetype": "text/x-python",
   "name": "python",
   "nbconvert_exporter": "python",
   "pygments_lexer": "ipython3",
   "version": "3.12.4"
  }
 },
 "nbformat": 4,
 "nbformat_minor": 2
}
